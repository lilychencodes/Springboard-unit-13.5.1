{
 "cells": [
  {
   "cell_type": "markdown",
   "metadata": {},
   "source": [
    "# Mini Project: Tree-Based Algorithms"
   ]
  },
  {
   "cell_type": "markdown",
   "metadata": {},
   "source": [
    "## The \"German Credit\" Dataset"
   ]
  },
  {
   "cell_type": "markdown",
   "metadata": {},
   "source": [
    "### Dataset Details"
   ]
  },
  {
   "cell_type": "markdown",
   "metadata": {},
   "source": [
    "This dataset has two classes (these would be considered labels in Machine Learning terms) to describe the worthiness of a personal loan: \"Good\" or \"Bad\". There are predictors related to attributes, such as: checking account status, duration, credit history, purpose of the loan, amount of the loan, savings accounts or bonds, employment duration, installment rate in percentage of disposable income, personal information, other debtors/guarantors, residence duration, property, age, other installment plans, housing, number of existing credits, job information, number of people being liable to provide maintenance for, telephone, and foreign worker status.\n",
    "\n",
    "Many of these predictors are discrete and have been expanded into several 0/1 indicator variables (a.k.a. they have been one-hot-encoded).\n",
    "\n",
    "This dataset has been kindly provided by Professor Dr. Hans Hofmann of the University of Hamburg, and can also be found on the UCI Machine Learning Repository."
   ]
  },
  {
   "cell_type": "markdown",
   "metadata": {},
   "source": [
    "\n",
    "\n",
    "\n"
   ]
  },
  {
   "cell_type": "markdown",
   "metadata": {},
   "source": [
    "## Decision Trees"
   ]
  },
  {
   "cell_type": "markdown",
   "metadata": {},
   "source": [
    " As we have learned in the previous lectures, Decision Trees as a family of algorithms (irrespective to the particular implementation) are powerful algorithms that can produce models with a predictive accuracy higher than that produced by linear models, such as Linear or Logistic Regression. Primarily, this is due to the fact the DT's can model nonlinear relationships, and also have a number of tuning paramters, that allow for the practicioner to achieve the best possible model. An added bonus is the ability to visualize the trained Decision Tree model, which allows for some insight into how the model has produced the predictions that it has. One caveat here, to keep in mind, is that sometimes, due to the size of the dataset (both in the sense of the number of records, as well as the number of features), the visualization might prove to be very large and complex, increasing the difficulty of interpretation."
   ]
  },
  {
   "cell_type": "markdown",
   "metadata": {},
   "source": [
    "To give you a very good example of how Decision Trees can be visualized and interpreted, we would strongly recommend that, before continuing on with solving the problems in this Mini Project, you take the time to read this fanstastic, detailed and informative blog post: http://explained.ai/decision-tree-viz/index.html"
   ]
  },
  {
   "cell_type": "markdown",
   "metadata": {},
   "source": [
    "## Building Your First Decision Tree Model"
   ]
  },
  {
   "cell_type": "markdown",
   "metadata": {},
   "source": [
    "So, now it's time to jump straight into the heart of the matter. Your first task, is to build a Decision Tree model, using the aforementioned \"German Credit\" dataset, which contains 1,000 records, and 62 columns (one of them presents the labels, and the other 61 present the potential features for the model.)"
   ]
  },
  {
   "cell_type": "markdown",
   "metadata": {},
   "source": [
    "For this task, you will be using the scikit-learn library, which comes already pre-installed with the Anaconda Python distribution. In case you're not using that, you can easily install it using pip."
   ]
  },
  {
   "cell_type": "markdown",
   "metadata": {},
   "source": [
    "Before embarking on creating your first model, we would strongly encourage you to read the short tutorial for Decision Trees in scikit-learn (http://scikit-learn.org/stable/modules/tree.html), and then dive a bit deeper into the documentation of the algorithm itself (http://scikit-learn.org/stable/modules/generated/sklearn.tree.DecisionTreeClassifier.html). "
   ]
  },
  {
   "cell_type": "markdown",
   "metadata": {},
   "source": [
    "Also, since you want to be able to present the results of your model, we suggest you take a look at the tutorial for accuracy metrics for classification models (http://scikit-learn.org/stable/modules/model_evaluation.html#classification-report) as well as the more detailed documentation (http://scikit-learn.org/stable/modules/generated/sklearn.metrics.classification_report.html).\n",
    "\n",
    "Finally, an *amazing* resource that explains the various classification model accuracy metrics, as well as the relationships between them, can be found on Wikipedia: https://en.wikipedia.org/wiki/Confusion_matrix"
   ]
  },
  {
   "cell_type": "markdown",
   "metadata": {},
   "source": [
    "(Note: as you've already learned in the Logistic Regression mini project, a standard practice in Machine Learning for achieving the best possible result when training a model is to use hyperparameter tuning, through Grid Search and k-fold Cross Validation. We strongly encourage you to use it here as well, not just because it's standard practice, but also becuase it's not going to be computationally to intensive, due to the size of the dataset that you're working with. Our suggestion here is that you split the data into 70% training, and 30% testing. Then, do the hyperparameter tuning and Cross Validation on the training set, and afterwards to a final test on the testing set.)"
   ]
  },
  {
   "cell_type": "markdown",
   "metadata": {},
   "source": [
    "### Now we pass the torch onto you! You can start building your first Decision Tree model! :)"
   ]
  },
  {
   "cell_type": "code",
   "execution_count": 2,
   "metadata": {},
   "outputs": [],
   "source": [
    "import pandas as pd\n",
    "from sklearn.tree import DecisionTreeClassifier\n",
    "from sklearn.metrics import classification_report\n",
    "from sklearn.model_selection import train_test_split\n",
    "from sklearn.model_selection import GridSearchCV"
   ]
  },
  {
   "cell_type": "code",
   "execution_count": 32,
   "metadata": {},
   "outputs": [
    {
     "data": {
      "text/plain": [
       "GridSearchCV(estimator=DecisionTreeClassifier(random_state=1),\n",
       "             param_grid={'criterion': ['gini', 'entropy'],\n",
       "                         'min_samples_leaf': [1, 2, 5, 10, 50, 100]})"
      ]
     },
     "execution_count": 32,
     "metadata": {},
     "output_type": "execute_result"
    }
   ],
   "source": [
    "# Your code here! :)\n",
    "\n",
    "df = pd.read_csv('GermanCredit.csv')\n",
    "# df.head()\n",
    "\n",
    "X = df.drop(columns=['Class'])\n",
    "y = df['Class']\n",
    "\n",
    "tree = DecisionTreeClassifier(random_state=1)\n",
    "\n",
    "X_train, X_test, y_train, y_test = train_test_split(X, y, test_size=0.30, random_state=40)\n",
    "\n",
    "parameters = {\n",
    "    'criterion': ['gini', 'entropy'],\n",
    "    'min_samples_leaf': [1, 2, 5, 10, 50, 100],\n",
    "}\n",
    "\n",
    "search = GridSearchCV(tree, parameters)\n",
    "\n",
    "search.fit(X_train, y_train)\n",
    "\n"
   ]
  },
  {
   "cell_type": "code",
   "execution_count": 33,
   "metadata": {},
   "outputs": [
    {
     "name": "stdout",
     "output_type": "stream",
     "text": [
      "Grid search results:  {'mean_fit_time': array([0.00636415, 0.00535994, 0.00422978, 0.003684  , 0.0029429 ,\n",
      "       0.00273747, 0.00451217, 0.00441818, 0.00401316, 0.00363483,\n",
      "       0.00281014, 0.0025691 ]), 'std_fit_time': array([1.18512732e-04, 3.14707481e-04, 2.54194774e-04, 2.60413341e-05,\n",
      "       7.52734842e-05, 8.37525342e-05, 9.79706706e-05, 9.51092802e-05,\n",
      "       8.03897953e-05, 1.01196102e-04, 5.81556822e-05, 4.60979964e-05]), 'mean_score_time': array([0.00223346, 0.00193648, 0.00158672, 0.00148187, 0.00147696,\n",
      "       0.00147381, 0.00145755, 0.00145378, 0.001436  , 0.00141821,\n",
      "       0.00138841, 0.00141721]), 'std_score_time': array([1.97432432e-04, 6.00010849e-05, 9.18563883e-05, 3.67952097e-05,\n",
      "       4.42712936e-05, 3.98424768e-05, 7.88325326e-05, 6.92732310e-05,\n",
      "       5.19899033e-05, 3.72417452e-05, 6.63322479e-05, 7.19912628e-05]), 'param_criterion': masked_array(data=['gini', 'gini', 'gini', 'gini', 'gini', 'gini',\n",
      "                   'entropy', 'entropy', 'entropy', 'entropy', 'entropy',\n",
      "                   'entropy'],\n",
      "             mask=[False, False, False, False, False, False, False, False,\n",
      "                   False, False, False, False],\n",
      "       fill_value='?',\n",
      "            dtype=object), 'param_min_samples_leaf': masked_array(data=[1, 2, 5, 10, 50, 100, 1, 2, 5, 10, 50, 100],\n",
      "             mask=[False, False, False, False, False, False, False, False,\n",
      "                   False, False, False, False],\n",
      "       fill_value='?',\n",
      "            dtype=object), 'params': [{'criterion': 'gini', 'min_samples_leaf': 1}, {'criterion': 'gini', 'min_samples_leaf': 2}, {'criterion': 'gini', 'min_samples_leaf': 5}, {'criterion': 'gini', 'min_samples_leaf': 10}, {'criterion': 'gini', 'min_samples_leaf': 50}, {'criterion': 'gini', 'min_samples_leaf': 100}, {'criterion': 'entropy', 'min_samples_leaf': 1}, {'criterion': 'entropy', 'min_samples_leaf': 2}, {'criterion': 'entropy', 'min_samples_leaf': 5}, {'criterion': 'entropy', 'min_samples_leaf': 10}, {'criterion': 'entropy', 'min_samples_leaf': 50}, {'criterion': 'entropy', 'min_samples_leaf': 100}], 'split0_test_score': array([0.67857143, 0.67857143, 0.65      , 0.63571429, 0.69285714,\n",
      "       0.65      , 0.68571429, 0.64285714, 0.7       , 0.66428571,\n",
      "       0.68571429, 0.62857143]), 'split1_test_score': array([0.69285714, 0.66428571, 0.7       , 0.63571429, 0.75714286,\n",
      "       0.73571429, 0.71428571, 0.70714286, 0.70714286, 0.67857143,\n",
      "       0.75714286, 0.73571429]), 'split2_test_score': array([0.64285714, 0.64285714, 0.62857143, 0.67857143, 0.62142857,\n",
      "       0.7       , 0.55      , 0.62142857, 0.62142857, 0.63571429,\n",
      "       0.62142857, 0.7       ]), 'split3_test_score': array([0.67142857, 0.66428571, 0.65      , 0.65714286, 0.71428571,\n",
      "       0.69285714, 0.65      , 0.64285714, 0.66428571, 0.69285714,\n",
      "       0.71428571, 0.69285714]), 'split4_test_score': array([0.74285714, 0.72857143, 0.74285714, 0.75      , 0.75      ,\n",
      "       0.72142857, 0.70714286, 0.70714286, 0.72857143, 0.74285714,\n",
      "       0.75      , 0.72142857]), 'mean_test_score': array([0.68571429, 0.67571429, 0.67428571, 0.67142857, 0.70714286,\n",
      "       0.7       , 0.66142857, 0.66428571, 0.68428571, 0.68285714,\n",
      "       0.70571429, 0.69571429]), 'std_test_score': array([0.03288818, 0.02878492, 0.04155154, 0.04237828, 0.04886466,\n",
      "       0.029277  , 0.060034  , 0.03585686, 0.03763411, 0.03545621,\n",
      "       0.04936329, 0.03686711]), 'rank_test_score': array([ 5,  8,  9, 10,  1,  3, 12, 11,  6,  7,  2,  4], dtype=int32)}\n",
      "Best score:  0.7071428571428571\n"
     ]
    },
    {
     "data": {
      "text/plain": [
       "{'criterion': 'gini', 'min_samples_leaf': 50}"
      ]
     },
     "execution_count": 33,
     "metadata": {},
     "output_type": "execute_result"
    }
   ],
   "source": [
    "print('Grid search results: ', search.cv_results_)\n",
    "print('Best score: ', search.best_score_)\n",
    "\n",
    "search.best_params_"
   ]
  },
  {
   "cell_type": "code",
   "execution_count": 34,
   "metadata": {},
   "outputs": [
    {
     "data": {
      "text/plain": [
       "0.74"
      ]
     },
     "execution_count": 34,
     "metadata": {},
     "output_type": "execute_result"
    }
   ],
   "source": [
    "tree = DecisionTreeClassifier(random_state=2, criterion='gini', min_samples_leaf=50)\n",
    "\n",
    "tree.fit(X_train, y_train)\n",
    "\n",
    "tree.score(X_test, y_test)"
   ]
  },
  {
   "cell_type": "markdown",
   "metadata": {},
   "source": [
    "### After you've built the best model you can, now it's time to visualize it!"
   ]
  },
  {
   "cell_type": "markdown",
   "metadata": {},
   "source": [
    "Rememeber that amazing blog post from a few paragraphs ago, that demonstrated how to visualize and interpret the results of your Decision Tree model. We've seen that this can perform very well, but let's see how it does on the \"German Credit\" dataset that we're working on, due to it being a bit larger than the one used by the blog authors."
   ]
  },
  {
   "cell_type": "markdown",
   "metadata": {},
   "source": [
    "First, we're going to need to install their package. If you're using Anaconda, this can be done easily by running:"
   ]
  },
  {
   "cell_type": "code",
   "execution_count": 35,
   "metadata": {},
   "outputs": [
    {
     "name": "stdout",
     "output_type": "stream",
     "text": [
      "Collecting dtreeviz\n",
      "  Downloading dtreeviz-1.3.tar.gz (60 kB)\n",
      "\u001b[K     |████████████████████████████████| 60 kB 1.3 MB/s eta 0:00:01\n",
      "\u001b[?25hCollecting graphviz>=0.9\n",
      "  Downloading graphviz-0.16-py2.py3-none-any.whl (19 kB)\n",
      "Requirement already satisfied: pandas in /Users/yilingchen/anaconda3/lib/python3.8/site-packages (from dtreeviz) (1.2.3)\n",
      "Requirement already satisfied: numpy in /Users/yilingchen/anaconda3/lib/python3.8/site-packages (from dtreeviz) (1.19.2)\n",
      "Requirement already satisfied: scikit-learn in /Users/yilingchen/anaconda3/lib/python3.8/site-packages (from dtreeviz) (0.24.1)\n",
      "Requirement already satisfied: matplotlib in /Users/yilingchen/anaconda3/lib/python3.8/site-packages (from dtreeviz) (3.3.4)\n",
      "Collecting colour\n",
      "  Downloading colour-0.1.5-py2.py3-none-any.whl (23 kB)\n",
      "Requirement already satisfied: pytest in /Users/yilingchen/anaconda3/lib/python3.8/site-packages (from dtreeviz) (6.2.2)\n",
      "Requirement already satisfied: python-dateutil>=2.1 in /Users/yilingchen/anaconda3/lib/python3.8/site-packages (from matplotlib->dtreeviz) (2.8.1)\n",
      "Requirement already satisfied: pyparsing!=2.0.4,!=2.1.2,!=2.1.6,>=2.0.3 in /Users/yilingchen/anaconda3/lib/python3.8/site-packages (from matplotlib->dtreeviz) (2.4.7)\n",
      "Requirement already satisfied: kiwisolver>=1.0.1 in /Users/yilingchen/anaconda3/lib/python3.8/site-packages (from matplotlib->dtreeviz) (1.3.1)\n",
      "Requirement already satisfied: pillow>=6.2.0 in /Users/yilingchen/anaconda3/lib/python3.8/site-packages (from matplotlib->dtreeviz) (8.1.2)\n",
      "Requirement already satisfied: cycler>=0.10 in /Users/yilingchen/anaconda3/lib/python3.8/site-packages (from matplotlib->dtreeviz) (0.10.0)\n",
      "Requirement already satisfied: six in /Users/yilingchen/anaconda3/lib/python3.8/site-packages (from cycler>=0.10->matplotlib->dtreeviz) (1.15.0)\n",
      "Requirement already satisfied: pytz>=2017.3 in /Users/yilingchen/anaconda3/lib/python3.8/site-packages (from pandas->dtreeviz) (2021.1)\n",
      "Requirement already satisfied: attrs>=19.2.0 in /Users/yilingchen/anaconda3/lib/python3.8/site-packages (from pytest->dtreeviz) (20.3.0)\n",
      "Requirement already satisfied: iniconfig in /Users/yilingchen/anaconda3/lib/python3.8/site-packages (from pytest->dtreeviz) (1.1.1)\n",
      "Requirement already satisfied: packaging in /Users/yilingchen/anaconda3/lib/python3.8/site-packages (from pytest->dtreeviz) (20.9)\n",
      "Requirement already satisfied: pluggy<1.0.0a1,>=0.12 in /Users/yilingchen/anaconda3/lib/python3.8/site-packages (from pytest->dtreeviz) (0.13.1)\n",
      "Requirement already satisfied: py>=1.8.2 in /Users/yilingchen/anaconda3/lib/python3.8/site-packages (from pytest->dtreeviz) (1.10.0)\n",
      "Requirement already satisfied: toml in /Users/yilingchen/anaconda3/lib/python3.8/site-packages (from pytest->dtreeviz) (0.10.2)\n",
      "Requirement already satisfied: threadpoolctl>=2.0.0 in /Users/yilingchen/anaconda3/lib/python3.8/site-packages (from scikit-learn->dtreeviz) (2.1.0)\n",
      "Requirement already satisfied: joblib>=0.11 in /Users/yilingchen/anaconda3/lib/python3.8/site-packages (from scikit-learn->dtreeviz) (1.0.1)\n",
      "Requirement already satisfied: scipy>=0.19.1 in /Users/yilingchen/anaconda3/lib/python3.8/site-packages (from scikit-learn->dtreeviz) (1.6.1)\n",
      "Building wheels for collected packages: dtreeviz\n",
      "  Building wheel for dtreeviz (setup.py) ... \u001b[?25ldone\n",
      "\u001b[?25h  Created wheel for dtreeviz: filename=dtreeviz-1.3-py3-none-any.whl size=66638 sha256=dc40d70a3300d98ae84f101c8efb051a31b6f8228d05ec5e1f3960568e8823f4\n",
      "  Stored in directory: /Users/yilingchen/Library/Caches/pip/wheels/9e/37/2c/3b30269ca762b6bb992fd0abb640f3e384c290e719597fddbc\n",
      "Successfully built dtreeviz\n",
      "Installing collected packages: graphviz, colour, dtreeviz\n",
      "Successfully installed colour-0.1.5 dtreeviz-1.3 graphviz-0.16\n"
     ]
    }
   ],
   "source": [
    "! pip install dtreeviz"
   ]
  },
  {
   "cell_type": "markdown",
   "metadata": {},
   "source": [
    "If for any reason this way of installing doesn't work for you straight out of the box, please refer to the more detailed documentation here: https://github.com/parrt/dtreeviz"
   ]
  },
  {
   "cell_type": "markdown",
   "metadata": {},
   "source": [
    "Now you're ready to visualize your Decision Tree model! Please feel free to use the blog post for guidance and inspiration!"
   ]
  },
  {
   "cell_type": "code",
   "execution_count": 49,
   "metadata": {},
   "outputs": [
    {
     "data": {
      "image/png": "[encoded data removed]",
      "text/plain": [
       "<Figure size 720x360 with 1 Axes>"
      ]
     },
     "metadata": {
      "needs_background": "light"
     },
     "output_type": "display_data"
    }
   ],
   "source": [
    "# Your code here! :)\n",
    "\n",
    "from dtreeviz import trees\n",
    "\n",
    "features = X.columns\n",
    "\n",
    "trees.viz_leaf_samples(tree, X, features)\n"
   ]
  },
  {
   "cell_type": "code",
   "execution_count": 54,
   "metadata": {},
   "outputs": [
    {
     "name": "stdout",
     "output_type": "stream",
     "text": [
      "Duration < 15.5\n",
      "CheckingAccountStatus.none < 0.5\n",
      "Property.RealEstate < 0.5\n",
      "\n"
     ]
    },
    {
     "data": {
      "image/png": "[encoded data removed]",
      "text/plain": [
       "<Figure size 720x360 with 1 Axes>"
      ]
     },
     "metadata": {
      "needs_background": "light"
     },
     "output_type": "display_data"
    }
   ],
   "source": [
    "\n",
    "datapoint = X.iloc[10]\n",
    "\n",
    "# print('datapoint:', datapoint)\n",
    "trees.explain_prediction_path(tree, datapoint, feature_names=features, explanation_type=\"sklearn_default\")\n",
    "\n",
    "print(trees.explain_prediction_path(tree, datapoint, feature_names=features, explanation_type=\"plain_english\"))\n"
   ]
  },
  {
   "cell_type": "markdown",
   "metadata": {},
   "source": [
    "## Random Forests"
   ]
  },
  {
   "cell_type": "markdown",
   "metadata": {},
   "source": [
    "As discussed in the lecture videos, Decision Tree algorithms also have certain undesireable properties. Mainly the have low bias, which is good, but tend to have high variance - which is *not* so good (more about this problem here: https://en.wikipedia.org/wiki/Bias%E2%80%93variance_tradeoff)."
   ]
  },
  {
   "cell_type": "markdown",
   "metadata": {},
   "source": [
    "Noticing these problems, the late Professor Leo Breiman, in 2001, developed the Random Forests algorithm, which mitigates these problems, while at the same time providing even higher predictive accuracy than the majority of Decision Tree algorithm implementations. While the curriculum contains two excellent lectures on Random Forests, if you're interested, you can dive into the original paper here: https://link.springer.com/content/pdf/10.1023%2FA%3A1010933404324.pdf."
   ]
  },
  {
   "cell_type": "markdown",
   "metadata": {},
   "source": [
    "In the next part of this assignment, your are going to use the same \"German Credit\" dataset to train, tune, and measure the performance of a Random Forests model. You will also see certain functionalities that this model, even though it's a bit of a \"black box\", provides for some degree of interpretability."
   ]
  },
  {
   "cell_type": "markdown",
   "metadata": {},
   "source": [
    "First, let's build a Random Forests model, using the same best practices that you've used for your Decision Trees model. You can reuse the things you've already imported there, so no need to do any re-imports, new train/test splits, or loading up the data again."
   ]
  },
  {
   "cell_type": "code",
   "execution_count": 37,
   "metadata": {},
   "outputs": [],
   "source": [
    "from sklearn.ensemble import RandomForestClassifier"
   ]
  },
  {
   "cell_type": "code",
   "execution_count": 38,
   "metadata": {},
   "outputs": [
    {
     "name": "stdout",
     "output_type": "stream",
     "text": [
      "grid best score: 0.76\n",
      "grid best param:  {'criterion': 'entropy', 'min_samples_leaf': 2}\n"
     ]
    }
   ],
   "source": [
    "# Your code here! :)\n",
    "\n",
    "forest = RandomForestClassifier()\n",
    "\n",
    "parameters = {\n",
    "    'criterion': ['gini', 'entropy'],\n",
    "    'min_samples_leaf': [1, 2, 5, 10, 50, 100],\n",
    "}\n",
    "\n",
    "grid = GridSearchCV(forest, parameters)\n",
    "\n",
    "grid.fit(X_train, y_train)\n",
    "\n",
    "print('grid best score:', grid.best_score_)\n",
    "print('grid best param: ', grid.best_params_)"
   ]
  },
  {
   "cell_type": "code",
   "execution_count": 42,
   "metadata": {},
   "outputs": [
    {
     "data": {
      "text/plain": [
       "0.75"
      ]
     },
     "execution_count": 42,
     "metadata": {},
     "output_type": "execute_result"
    }
   ],
   "source": [
    "forest = RandomForestClassifier(random_state=0, criterion='entropy', min_samples_leaf=2)\n",
    "forest.fit(X_train, y_train)\n",
    "forest.score(X_test, y_test)\n"
   ]
  },
  {
   "cell_type": "markdown",
   "metadata": {},
   "source": [
    "As mentioned, there are certain ways to \"peek\" into a model created by the Random Forests algorithm. The first, and most popular one, is the Feature Importance calculation functionality. This allows the ML practitioner to see an ordering of the importance of the features that have contributed the most to the predictive accuracy of the model. \n",
    "\n",
    "You can see how to use this in the scikit-learn documentation (http://scikit-learn.org/stable/modules/generated/sklearn.ensemble.RandomForestClassifier.html#sklearn.ensemble.RandomForestClassifier.feature_importances_). Now, if you tried this, you would just get an ordered table of not directly interpretable numeric values. Thus, it's much more useful to show the feature importance in a visual way. You can see an example of how that's done here: http://scikit-learn.org/stable/auto_examples/ensemble/plot_forest_importances.html#sphx-glr-auto-examples-ensemble-plot-forest-importances-py\n",
    "\n",
    "Now you try! Let's visualize the importance of features from your Random Forests model!"
   ]
  },
  {
   "cell_type": "code",
   "execution_count": 44,
   "metadata": {},
   "outputs": [
    {
     "name": "stdout",
     "output_type": "stream",
     "text": [
      "Feature ranking:\n",
      "1. feature 1 (0.106078)\n",
      "2. feature 0 (0.090983)\n",
      "3. feature 4 (0.082204)\n",
      "4. feature 12 (0.059741)\n",
      "5. feature 9 (0.038650)\n",
      "6. feature 2 (0.033377)\n",
      "7. feature 3 (0.032757)\n",
      "8. feature 29 (0.027389)\n",
      "9. feature 17 (0.023653)\n",
      "10. feature 53 (0.020300)\n",
      "11. feature 10 (0.019500)\n",
      "12. feature 18 (0.017804)\n",
      "13. feature 59 (0.016826)\n",
      "14. feature 51 (0.016574)\n",
      "15. feature 47 (0.016466)\n",
      "16. feature 7 (0.016193)\n",
      "17. feature 34 (0.015833)\n",
      "18. feature 50 (0.015756)\n",
      "19. feature 41 (0.015703)\n",
      "20. feature 40 (0.015615)\n",
      "21. feature 5 (0.015599)\n",
      "22. feature 35 (0.014616)\n",
      "23. feature 21 (0.014188)\n",
      "24. feature 55 (0.014117)\n",
      "25. feature 15 (0.014088)\n",
      "26. feature 33 (0.013543)\n",
      "27. feature 37 (0.013273)\n",
      "28. feature 49 (0.012989)\n",
      "29. feature 19 (0.012972)\n",
      "30. feature 48 (0.012762)\n",
      "31. feature 36 (0.012042)\n",
      "32. feature 60 (0.011711)\n",
      "33. feature 58 (0.011455)\n",
      "34. feature 20 (0.010997)\n",
      "35. feature 14 (0.010332)\n",
      "36. feature 13 (0.009887)\n",
      "37. feature 56 (0.009293)\n",
      "38. feature 54 (0.008626)\n",
      "39. feature 11 (0.008411)\n",
      "40. feature 27 (0.008374)\n",
      "41. feature 6 (0.008120)\n",
      "42. feature 44 (0.007459)\n",
      "43. feature 16 (0.007001)\n",
      "44. feature 46 (0.005699)\n",
      "45. feature 45 (0.005665)\n",
      "46. feature 38 (0.005539)\n",
      "47. feature 52 (0.005387)\n",
      "48. feature 8 (0.004969)\n",
      "49. feature 31 (0.004739)\n",
      "50. feature 24 (0.004613)\n",
      "51. feature 42 (0.004540)\n",
      "52. feature 32 (0.004378)\n",
      "53. feature 30 (0.003748)\n",
      "54. feature 23 (0.001949)\n",
      "55. feature 39 (0.001873)\n",
      "56. feature 57 (0.001639)\n",
      "57. feature 28 (0.000903)\n",
      "58. feature 22 (0.000764)\n",
      "59. feature 26 (0.000336)\n",
      "60. feature 43 (0.000000)\n",
      "61. feature 25 (0.000000)\n"
     ]
    },
    {
     "data": {
      "image/png": "[encoded data removed]",
      "text/plain": [
       "<Figure size 432x288 with 1 Axes>"
      ]
     },
     "metadata": {
      "needs_background": "light"
     },
     "output_type": "display_data"
    }
   ],
   "source": [
    "# Your code here\n",
    "import numpy as np\n",
    "import matplotlib.pyplot as plt\n",
    "\n",
    "importances = forest.feature_importances_\n",
    "std = np.std([tree.feature_importances_ for tree in forest.estimators_],\n",
    "             axis=0)\n",
    "indices = np.argsort(importances)[::-1]\n",
    "\n",
    "# Print the feature ranking\n",
    "print(\"Feature ranking:\")\n",
    "\n",
    "for f in range(X.shape[1]):\n",
    "    print(\"%d. feature %d (%f)\" % (f + 1, indices[f], importances[indices[f]]))\n",
    "\n",
    "# Plot the impurity-based feature importances of the forest\n",
    "plt.figure()\n",
    "plt.title(\"Feature importances\")\n",
    "plt.bar(range(X.shape[1]), importances[indices],\n",
    "        color=\"r\", yerr=std[indices], align=\"center\")\n",
    "plt.xticks(range(X.shape[1]), indices)\n",
    "plt.xlim([-1, X.shape[1]])\n",
    "plt.show()\n"
   ]
  },
  {
   "cell_type": "markdown",
   "metadata": {},
   "source": [
    "A final method for gaining some insight into the inner working of your Random Forests models is a so-called Partial Dependence Plot. The Partial Dependence Plot (PDP or PD plot) shows the marginal effect of a feature on the predicted outcome of a previously fit model. The prediction function is fixed at a few values of the chosen features and averaged over the other features. A partial dependence plot can show if the relationship between the target and a feature is linear, monotonic or more complex. \n",
    "\n",
    "In scikit-learn, PDPs are implemented and available for certain algorithms, but at this point (version 0.20.0) they are not yet implemented for Random Forests. Thankfully, there is an add-on package called **PDPbox** (https://pdpbox.readthedocs.io/en/latest/) which adds this functionality to Random Forests. The package is easy to install through pip."
   ]
  },
  {
   "cell_type": "code",
   "execution_count": null,
   "metadata": {},
   "outputs": [],
   "source": [
    "! pip install pdpbox"
   ]
  },
  {
   "cell_type": "markdown",
   "metadata": {},
   "source": [
    "While we encourage you to read the documentation for the package (and reading package documentation in general is a good habit to develop), the authors of the package have also written an excellent blog post on how to use it, showing examples on different algorithms from scikit-learn (the Random Forests example is towards the end of the blog post): https://briangriner.github.io/Partial_Dependence_Plots_presentation-BrianGriner-PrincetonPublicLibrary-4.14.18-updated-4.22.18.html"
   ]
  },
  {
   "cell_type": "markdown",
   "metadata": {},
   "source": [
    "So, armed with this new knowledge, feel free to pick a few features, and make a couple of Partial Dependence Plots of your own!"
   ]
  },
  {
   "cell_type": "code",
   "execution_count": null,
   "metadata": {},
   "outputs": [],
   "source": [
    "# Your code here!"
   ]
  },
  {
   "cell_type": "markdown",
   "metadata": {},
   "source": [
    "## (Optional) Advanced Boosting-Based Algorithms"
   ]
  },
  {
   "cell_type": "markdown",
   "metadata": {},
   "source": [
    "As explained in the video lectures, the next generation of algorithms after Random Forests (that use Bagging, a.k.a. Bootstrap Aggregation) were developed using Boosting, and the first one of these were Gradient Boosted Machines, which are implemented in scikit-learn (http://scikit-learn.org/stable/modules/ensemble.html#gradient-tree-boosting)."
   ]
  },
  {
   "cell_type": "markdown",
   "metadata": {},
   "source": [
    "Still, in recent years, a number of variations on GBMs have been developed by different research amd industry groups, all of them bringing improvements, both in speed, accuracy and functionality to the original Gradient Boosting algorithms.\n",
    "\n",
    "In no order of preference, these are:\n",
    "1. **XGBoost**: https://xgboost.readthedocs.io/en/latest/\n",
    "2. **CatBoost**: https://tech.yandex.com/catboost/\n",
    "3. **LightGBM**: https://lightgbm.readthedocs.io/en/latest/"
   ]
  },
  {
   "cell_type": "markdown",
   "metadata": {},
   "source": [
    "If you're using the Anaconda distribution, these are all very easy to install:"
   ]
  },
  {
   "cell_type": "code",
   "execution_count": null,
   "metadata": {},
   "outputs": [],
   "source": [
    "! conda install -c anaconda py-xgboost"
   ]
  },
  {
   "cell_type": "code",
   "execution_count": null,
   "metadata": {},
   "outputs": [],
   "source": [
    "! conda install -c conda-forge catboost"
   ]
  },
  {
   "cell_type": "code",
   "execution_count": null,
   "metadata": {},
   "outputs": [],
   "source": [
    "! conda install -c conda-forge lightgbm"
   ]
  },
  {
   "cell_type": "markdown",
   "metadata": {},
   "source": [
    "Your task in this optional section of the mini project is to read the documentation of these three libraries, and apply all of them to the \"German Credit\" dataset, just like you did in the case of Decision Trees and Random Forests."
   ]
  },
  {
   "cell_type": "markdown",
   "metadata": {},
   "source": [
    "The final deliverable of this section should be a table (can be a pandas DataFrame) which shows the accuracy of all the five algorthms taught in this mini project in one place."
   ]
  },
  {
   "cell_type": "markdown",
   "metadata": {},
   "source": [
    "Happy modeling! :)"
   ]
  },
  {
   "cell_type": "code",
   "execution_count": null,
   "metadata": {},
   "outputs": [],
   "source": []
  }
 ],
 "metadata": {
  "kernelspec": {
   "display_name": "Python 3",
   "language": "python",
   "name": "python3"
  },
  "language_info": {
   "codemirror_mode": {
    "name": "ipython",
    "version": 3
   },
   "file_extension": ".py",
   "mimetype": "text/x-python",
   "name": "python",
   "nbconvert_exporter": "python",
   "pygments_lexer": "ipython3",
   "version": "3.8.3"
  }
 },
 "nbformat": 4,
 "nbformat_minor": 2
}
